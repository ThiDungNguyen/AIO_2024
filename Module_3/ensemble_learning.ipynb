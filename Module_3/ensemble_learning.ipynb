{
 "cells": [
  {
   "cell_type": "code",
   "execution_count": null,
   "metadata": {},
   "outputs": [],
   "source": [
    "import numpy as np\n",
    "import pandas as pd\n",
    "import matplotlib . pyplot as plt\n",
    "\n",
    "from sklearn . tree import DecisionTreeRegressor\n",
    "from sklearn . ensemble import RandomForestRegressor\n",
    "from sklearn . preprocessing import OrdinalEncoder , StandardScaler\n",
    "from sklearn . model_selection import train_test_split\n",
    "from sklearn . metrics import mean_absolute_error , mean_squared_error"
   ]
  }
 ],
 "metadata": {
  "language_info": {
   "name": "python"
  }
 },
 "nbformat": 4,
 "nbformat_minor": 2
}
